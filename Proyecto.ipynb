{
 "cells": [
  {
   "cell_type": "markdown",
   "metadata": {},
   "source": [
    "# Proyecto Nº7:\n",
    "# Identificar anormalidades en placas radiográficas\n",
    "\n",
    "## Integrantes:\n",
    "### Natalia Isabel Hernández\n",
    "### Leidy Yuliana Quintero\n",
    "### Jhon Anderson Sánchez\n",
    "\n",
    "\n",
    "## Introducción\n",
    "\n",
    "#### .bat es un archivo de procesamiento por lotes (a la ejecución de un programa sin el control o supervisión directa del usuario), las órdenes contenidas son ejecutadas en grupo, de forma secuencial, permitiendo automatizar diversas tareas.\n",
    "\n",
    "#### Se le entrega al sistema cinco imágenes de huesos sin fractura y seis de imágenes con fracturas, en diferentes carpetas, también se escriben en archivos de texto el nombre de cada una de las imágenes tanto como para negativas, como para positivas, en el archivo de las imágenes positivas se le entregan los puntos que debe tener en cuenta para detectar la fractura.\n",
    "\n",
    "#### Se realiza un aprendizaje no supervisado, con el traincascade.bat para que realice los entrenamientos que se le indican, en donde envía los archivo a la carpeta data, guardando cada uno de los entrenamientos ejecutados en un archivo xml que se utiliza para el reconocimiento de anomalías de una placa radiográfica.\n",
    "\n",
    "#### Se implementa el programa de Open CV2 para realizar el reconocimiento de imágenes y/o video donde se le presentan imágenes de huesos sanos y huesos rotos, el cual debe reconocer la anomalía de la placa radiográfica, donde señala la parte afectada.\n",
    "\n",
    "#### Se importa la librería de cv2 para captura de videos e imágenes.\n",
    "#### Se declara una variable font para seleccionar la fuente de letra que mostrara el sistema, en el recuadro diciendo fractura.\n",
    "#### Se declara la variable mano para extraer el archivo de entrenamiento.\n",
    "#### Se hace una captura de video para mostrarle la imagen y que reconozca.\n",
    "#### Se le entrega en la escala de grises\n",
    "#### Se le dan la posición que debe tener el rectagle x (Punto x del plano), y (Punto y del plano), h (height, alto), w (width, ancho).\n",
    "#### Un cuadro de texto con el mensaje fractura que comprende de las propiedades de imagen, mensaje, coordenadas del texto, fuente, tamaño de fuente, color del texto.\n",
    "\n",
    "\n",
    "\n"
   ]
  },
  {
   "cell_type": "code",
   "execution_count": 6,
   "metadata": {},
   "outputs": [],
   "source": [
    "import cv2 # IMPORTAMOS CV2 PARA EL RECONOCIMIENTO DE HUESOS EN BUEN ESTADO Y ROTOS.\n",
    " \n",
    "font = cv2.FONT_HERSHEY_COMPLEX_SMALL #Fuente de texto\n",
    "mano = cv2.CascadeClassifier('cascade.xml')#Archivo de entrenamiento\n",
    "if mano.empty(): raise Exception(\"¿Está seguro que es la ruta correcta?\")#Pregunta si la ubicaion del archivo cascade esta correcto\n",
    " \n",
    "\n",
    " \n",
    "video = cv2.VideoCapture(0)#Captura de video\n",
    "while video.isOpened():#Ciclo para abrir la ventana de video\n",
    "    videoVariable, imagen = video.read()#Procedimiento\n",
    "    if imagen is not None:\n",
    "        gris = cv2.cvtColor(imagen, cv2.COLOR_BGR2GRAY)#Color del video\n",
    "        manos = mano.detectMultiScale(gris, 1.3, 5)#Detencion de la imagen\n",
    "        for (x,y,w,h) in manos:#Ciclo de las cordenadas de rectangulo\n",
    "            cv2.rectangle(imagen,(x,y),(x+w,y+h),(255,0,0),2)#Rectangulo del texto, con las propiedades: imagen, punto x del plano, punto y del plano, que al punto x le sume lo ancho, que al punto y le sume lo alto y el color del cuadro\n",
    "            cv2.putText( imagen, \"Fractura\", (x+w,y+h), font, 1,(255,0,0))#Fuente del texto, proiedades: imagen, mensaje, cordenadas, fuente de letra, tamaño de la fuente, color de la letra.\n",
    "            roi_gris = gris[y:y+h, x:x+w]#Redimenciona el cuadro en el video\n",
    "            roi_color = imagen[y:y+h, x:x+w]#Redimencion del color de rectangulo \n",
    "            \n",
    "                \n",
    "        cv2.imshow('Video', imagen)#Marco resultante\n",
    "    if cv2.waitKey(1) & 0xFF == ord('q'):#Salir del video selecionado la letra q del teclado\n",
    "        break\n",
    "#Cuando todo haya terminado, libera la captura\n",
    "video.release()\n",
    "cv2.destroyAllWindows()#Destruya todas las ventanas"
   ]
  },
  {
   "cell_type": "code",
   "execution_count": null,
   "metadata": {},
   "outputs": [],
   "source": []
  }
 ],
 "metadata": {
  "kernelspec": {
   "display_name": "Python 3",
   "language": "python",
   "name": "python3"
  },
  "language_info": {
   "codemirror_mode": {
    "name": "ipython",
    "version": 3
   },
   "file_extension": ".py",
   "mimetype": "text/x-python",
   "name": "python",
   "nbconvert_exporter": "python",
   "pygments_lexer": "ipython3",
   "version": "3.6.5"
  }
 },
 "nbformat": 4,
 "nbformat_minor": 2
}
